{
 "cells": [
  {
   "cell_type": "markdown",
   "id": "c471f822",
   "metadata": {},
   "source": [
    "Some brief notes regarding Plonk"
   ]
  },
  {
   "cell_type": "code",
   "execution_count": 17,
   "id": "e105d236",
   "metadata": {},
   "outputs": [],
   "source": [
    "import plonk\n",
    "import numpy as np\n",
    "import pandas as pd\n",
    "import matplotlib.pyplot as plt\n",
    "from IPython.display import HTML\n",
    "import seaborn as sns\n",
    "%matplotlib inline \n",
    "%matplotlib notebook"
   ]
  },
  {
   "cell_type": "markdown",
   "id": "edbbc06b",
   "metadata": {},
   "source": [
    "Import the state of the simulation at a point in time"
   ]
  },
  {
   "cell_type": "code",
   "execution_count": 2,
   "id": "6ce9b30a",
   "metadata": {},
   "outputs": [],
   "source": [
    "filename = '../disc/disc_00100.h5'\n",
    "snap = plonk.load_snap(filename)\n",
    "\n",
    "# Adds extra arrays in the snap\n",
    "#snap.add_quantities('disc')"
   ]
  },
  {
   "cell_type": "markdown",
   "id": "25245ddc",
   "metadata": {},
   "source": [
    "Import the simulation"
   ]
  },
  {
   "cell_type": "code",
   "execution_count": 3,
   "id": "94e4754d",
   "metadata": {},
   "outputs": [],
   "source": [
    "prefix = 'disc'\n",
    "sim = plonk.load_simulation(prefix=prefix, directory= '../disc')"
   ]
  },
  {
   "cell_type": "markdown",
   "id": "8e714bfc",
   "metadata": {},
   "source": [
    "Loads profiles, while generating a profile is a convenient method to reduce the dimensionality of the full data set"
   ]
  },
  {
   "cell_type": "code",
   "execution_count": null,
   "id": "9dfd2784",
   "metadata": {},
   "outputs": [],
   "source": [
    "prof = plonk.load_profile(snap)\n",
    "# shows loaded and available profile\n",
    "prof.loaded_profiles()\n",
    "prof.available_profiles()"
   ]
  },
  {
   "cell_type": "markdown",
   "id": "4ee9f9e6",
   "metadata": {},
   "source": [
    "Time series are files containigglobally-averaged time series data output more frequently than snapshot files"
   ]
  },
  {
   "cell_type": "code",
   "execution_count": 7,
   "id": "a1b4a480",
   "metadata": {},
   "outputs": [],
   "source": [
    "ts_global = plonk.load_time_series('../disc/disc01.ev')\n",
    "ts_sinks = plonk.load_time_series('../disc/discSink0001N01.ev')"
   ]
  },
  {
   "cell_type": "markdown",
   "id": "c37cad1a",
   "metadata": {},
   "source": [
    "Creates animation of density"
   ]
  },
  {
   "cell_type": "code",
   "execution_count": null,
   "id": "242fe520",
   "metadata": {},
   "outputs": [],
   "source": [
    "units={'position': 'au', 'density': 'g/cm^3', 'projection': 'cm'}\n",
    "anim = plonk.animate(\n",
    "    filename='animation.mp4',\n",
    "    snaps=sim.snaps,\n",
    "    quantity='density',\n",
    "    extent=(-140, 140, -140, 140),\n",
    "    units=units,\n",
    "    adaptive_colorbar=False,\n",
    "    save_kwargs={'fps': 10, 'dpi': 300},\n",
    " )\n",
    "\n",
    "HTML(anim.to_html5_video())"
   ]
  },
  {
   "cell_type": "code",
   "execution_count": null,
   "id": "f0ef07d7",
   "metadata": {},
   "outputs": [],
   "source": [
    "sim.properties"
   ]
  },
  {
   "cell_type": "code",
   "execution_count": null,
   "id": "b393d780",
   "metadata": {},
   "outputs": [],
   "source": []
  }
 ],
 "metadata": {
  "kernelspec": {
   "display_name": "Python 3",
   "language": "python",
   "name": "python3"
  },
  "language_info": {
   "codemirror_mode": {
    "name": "ipython",
    "version": 3
   },
   "file_extension": ".py",
   "mimetype": "text/x-python",
   "name": "python",
   "nbconvert_exporter": "python",
   "pygments_lexer": "ipython3",
   "version": "3.8.2"
  }
 },
 "nbformat": 4,
 "nbformat_minor": 5
}
