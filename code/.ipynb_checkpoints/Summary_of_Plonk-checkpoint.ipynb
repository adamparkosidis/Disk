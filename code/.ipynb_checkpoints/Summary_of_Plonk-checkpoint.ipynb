{
 "cells": [
  {
   "cell_type": "markdown",
   "id": "c471f822",
   "metadata": {},
   "source": [
    "Some brief notes regarding Plonk"
   ]
  },
  {
   "cell_type": "code",
   "execution_count": 1,
   "id": "e105d236",
   "metadata": {},
   "outputs": [],
   "source": [
    "import plonk\n",
    "import numpy as np\n",
    "import pandas as pd\n",
    "import matplotlib.pyplot as plt\n",
    "import seaborn as sns\n",
    "%matplotlib inline "
   ]
  },
  {
   "cell_type": "markdown",
   "id": "edbbc06b",
   "metadata": {},
   "source": [
    "Import the state of the simulation at a point in time"
   ]
  },
  {
   "cell_type": "code",
   "execution_count": null,
   "id": "6ce9b30a",
   "metadata": {},
   "outputs": [],
   "source": [
    "filename = '../disc/disc_00100.h5'\n",
    "snap = plonk.load_snap(filename)\n",
    "\n",
    "# Adds extra arrays in the snap\n",
    "#snap.add_quantities('disc')"
   ]
  },
  {
   "cell_type": "markdown",
   "id": "25245ddc",
   "metadata": {},
   "source": [
    "Import the simulation"
   ]
  },
  {
   "cell_type": "code",
   "execution_count": null,
   "id": "94e4754d",
   "metadata": {},
   "outputs": [],
   "source": [
    "prefix = 'disc'\n",
    "sim = plonk.load_simulation(prefix=prefix, directory= '../disc')"
   ]
  },
  {
   "cell_type": "markdown",
   "id": "085c4add",
   "metadata": {},
   "source": [
    "#Loads profiles\n",
    "#Generating a profile is a convenient method to reduce the dimensionality of the full data set "
   ]
  },
  {
   "cell_type": "code",
   "execution_count": null,
   "id": "9dfd2784",
   "metadata": {},
   "outputs": [],
   "source": [
    "prof = plonk.load_profile(snap)\n",
    "# shows loaded and available profile\n",
    "prof.loaded_profiles()\n",
    "prof.available_profiles()"
   ]
  },
  {
   "cell_type": "markdown",
   "id": "4ee9f9e6",
   "metadata": {},
   "source": [
    "#Time series are files containigglobally-averaged time series data output more frequently than snapshot files"
   ]
  },
  {
   "cell_type": "code",
   "execution_count": null,
   "id": "a1b4a480",
   "metadata": {},
   "outputs": [],
   "source": [
    "ts_global = plonk.load_time_series('../disc/disc01.ev')\n",
    "ts_sinks = plonk.load_time_series('../disc/discSink0001N01.ev')\n"
   ]
  },
  {
   "cell_type": "markdown",
   "id": "c37cad1a",
   "metadata": {},
   "source": [
    "#Creates animation of density"
   ]
  },
  {
   "cell_type": "code",
   "execution_count": null,
   "id": "242fe520",
   "metadata": {},
   "outputs": [],
   "source": [
    "plonk.animate(\n",
    "    filename='animation.mp4',\n",
    "    snaps=sim.snaps,\n",
    "    quantity='density',\n",
    "    extent=(-140, 140, -140, 140),\n",
    "    units=units,\n",
    "    adaptive_colorbar=False,\n",
    "    save_kwargs={'fps': 10, 'dpi': 300},\n",
    " )"
   ]
  }
 ],
 "metadata": {
  "kernelspec": {
   "display_name": "Python 3",
   "language": "python",
   "name": "python3"
  },
  "language_info": {
   "codemirror_mode": {
    "name": "ipython",
    "version": 3
   },
   "file_extension": ".py",
   "mimetype": "text/x-python",
   "name": "python",
   "nbconvert_exporter": "python",
   "pygments_lexer": "ipython3",
   "version": "3.8.2"
  }
 },
 "nbformat": 4,
 "nbformat_minor": 5
}
